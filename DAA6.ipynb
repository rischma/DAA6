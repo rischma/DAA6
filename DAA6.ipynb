{
  "nbformat": 4,
  "nbformat_minor": 0,
  "metadata": {
    "colab": {
      "name": "DAA6.ipynb",
      "provenance": [],
      "collapsed_sections": []
    },
    "kernelspec": {
      "name": "python3",
      "display_name": "Python 3"
    },
    "language_info": {
      "name": "python"
    }
  },
  "cells": [
    {
      "cell_type": "code",
      "metadata": {
        "id": "vXdaeInd7lJj"
      },
      "source": [
        "# Fibbonacci dengan while\n",
        "nterms = int(input(\"How many terms? \"))\n",
        "n1,n2 = 0, 1\n",
        "count = 0\n",
        "\n",
        "if nterms <= 0:\n",
        "    print(\"please enter a positive integer\")\n",
        "elif nterms == 1:\n",
        "    print(\"Fibonacci sequence upto\",ntrems, \":\")\n",
        "    print(n1)\n",
        "else:\n",
        "    print(\"Fibbonacci sequence:\")\n",
        "    while count < nterms:\n",
        "        print (n1)\n",
        "        nth = n1+n2\n",
        "        #update nilai\n",
        "        n1 = n2\n",
        "        n2 = nth\n",
        "        count += 1"
      ],
      "execution_count": null,
      "outputs": []
    },
    {
      "cell_type": "code",
      "metadata": {
        "id": "wdQPXHy47p14"
      },
      "source": [
        "#Fibonacci dengan rekursi\n",
        "\n",
        "def recur_fibo(n):\n",
        "  if n <= 1:\n",
        "      return n\n",
        "  else:\n",
        "      return(recur_fibo(n-1) + recur_fibo(n-2))\n",
        "\n",
        "nterms = 20\n",
        "\n",
        "#cek apakah nilai nterms valid\n",
        "if nterms <= 0:\n",
        "  print(\"please enter a positive integer\")\n",
        "else:\n",
        "  print(\"fibonacci sequence: \")\n",
        "  for i in range(nterms):\n",
        "    print(recur_fibo(i))"
      ],
      "execution_count": null,
      "outputs": []
    },
    {
      "cell_type": "code",
      "metadata": {
        "id": "q-_koZ8F7tsA"
      },
      "source": [
        "#Fibonacci dengan rekursi\n",
        "\n",
        "def recur_fibo(n):\n",
        "  if n <= 1:\n",
        "      return n\n",
        "  else:\n",
        "      return(recur_fibo(n-1) + recur_fibo(n-2))\n",
        "\n",
        "nterms = int(input(\"How many terms? \"))\n",
        "n1,n2 = 0, 1\n",
        "count = 0\n",
        "\n",
        "#cek apakah nilai nterms valid\n",
        "if nterms <= 0:\n",
        "  print(\"please enter a positive integer\")\n",
        "else:\n",
        "  print(\"fibonacci sequence: \")\n",
        "  for i in range(nterms):\n",
        "    print(recur_fibo(i))"
      ],
      "execution_count": null,
      "outputs": []
    },
    {
      "cell_type": "code",
      "metadata": {
        "id": "5KDTG00m7xHx"
      },
      "source": [
        "import random\n",
        "from itertools import permutations\n",
        "alltours = permutations\n",
        "\n",
        "def distance_tour(aTour):\n",
        "  return sum(distance_points(aTour[i - 1], aTour[i])\n",
        "    for i in range(len(aTour)))\n",
        "\n",
        "aCity = complex\n",
        "\n",
        "def distance_points(first, second):\n",
        "  return abs(first - second)\n",
        "\n",
        "def generate_cities (number_of_cities):\n",
        "  seed=111;width=500;height=300\n",
        "  random.seed((number_of_cities, seed))\n",
        "  return frozenset(aCity(random.randint(1,width), random.randint(1,height))\n",
        "    for c in range(number_of_cities))"
      ],
      "execution_count": null,
      "outputs": []
    },
    {
      "cell_type": "code",
      "metadata": {
        "id": "eqoyqZnS7zd4"
      },
      "source": [
        "%matplotlib inline\n",
        "import matplotlib.pyplot as plt\n",
        "\n",
        "def visualize_tour(tour, style ='bo-'):\n",
        "  if len(tour) > 1000: plt.figure(figsize=(15,10))\n",
        "  start = tour [0:1]\n",
        "  visualize_segment(tour + start, style)\n",
        "  visualize_segment(start, 'rD')\n",
        "def visualize_segment(segment, style ='bo-'):\n",
        "  plt.plot([X(c) for c in segment], [Y(c) for c in segment], style, clip_on=False)\n",
        "  plt.axis('scaled')\n",
        "  plt.axis('off')\n",
        "\n",
        "def X(city): \"X axis\"; return city.real\n",
        "def Y(city): \"Y axis\"; return city.imag"
      ],
      "execution_count": null,
      "outputs": []
    },
    {
      "cell_type": "code",
      "metadata": {
        "id": "13NmlOgA71-w"
      },
      "source": [
        "from time import process_time\n",
        "from collections import Counter\n",
        "def tsp(algorithm,cities):\n",
        "  t0 = process_time()\n",
        "  tour = algorithm(cities)\n",
        "  t1 = process_time()\n",
        "  assert Counter(tour) == Counter(cities)\n",
        "  visualize_tour(tour)\n",
        "  print(\"{}:{} cities => tour length {:.0f}(in {:.3f} sec)\".format(name(algorithm), len(tour), distance_tour(tour),t1-t0))\n",
        "\n",
        "def name(algorithm): return algorithm.__name__.replace('_tsp','')"
      ],
      "execution_count": null,
      "outputs": []
    },
    {
      "cell_type": "code",
      "metadata": {
        "id": "N9q3WE0C736C"
      },
      "source": [
        "def greedy_algorithm(cities, start=None):\n",
        "  C = start or first(cities)\n",
        "  tour = [C]\n",
        "  unvisited = set(cities - {C})\n",
        "  while unvisited:\n",
        "    C = nearest_neighbor(C, unvisited)\n",
        "    tour.append(C)\n",
        "    unvisited.remove(C)\n",
        "  return tour\n",
        "\n",
        "def first(collection): return next(iter(collection))\n",
        "\n",
        "def nearest_neighbor(A, cities):\n",
        "  return min(cities, key =lambda C: distance_points(C,A))"
      ],
      "execution_count": null,
      "outputs": []
    },
    {
      "cell_type": "code",
      "metadata": {
        "id": "JhKiD6pI75ud"
      },
      "source": [
        "tsp(greedy_algorithm, generate_cities(10))"
      ],
      "execution_count": null,
      "outputs": []
    },
    {
      "cell_type": "code",
      "metadata": {
        "id": "TjwPwHxT77ng"
      },
      "source": [
        "tsp(greedy_algorithm, generate_cities(2000))"
      ],
      "execution_count": null,
      "outputs": []
    },
    {
      "cell_type": "code",
      "metadata": {
        "id": "cqwaaNe77_f_"
      },
      "source": [
        "string = 'BCAADDDCCACACAC'\n",
        "\n",
        "# Creating tree nodes\n",
        "class NodeTree(object):\n",
        "\n",
        "    def _init_(self, left=None, right=None):\n",
        "        self.left = left\n",
        "        self.right = right\n",
        "\n",
        "    def children(self):\n",
        "        return (self.left, self.right)\n",
        "\n",
        "    def nodes(self):\n",
        "        return (self.left, self.right)\n",
        "\n",
        "    def _str_(self):\n",
        "        return '%s_%s' % (self.left, self.right)"
      ],
      "execution_count": null,
      "outputs": []
    },
    {
      "cell_type": "code",
      "metadata": {
        "id": "2eoanREE7__N"
      },
      "source": [
        "# Main function implementing huffman coding\n",
        "def huffman_code_tree(node, left=True, binString=''):\n",
        "    if type(node) is str:\n",
        "        return {node: binString}\n",
        "    (l, r) = node.children()\n",
        "    d = dict()\n",
        "    d.update(huffman_code_tree(l, True, binString + '0'))\n",
        "    d.update(huffman_code_tree(r, False, binString + '1'))\n",
        "    return d"
      ],
      "execution_count": null,
      "outputs": []
    },
    {
      "cell_type": "code",
      "metadata": {
        "id": "j9V0ASSD8Ddl"
      },
      "source": [
        ""
      ],
      "execution_count": null,
      "outputs": []
    }
  ]
}